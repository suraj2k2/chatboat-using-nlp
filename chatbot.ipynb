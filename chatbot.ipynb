{
  "cells": [
    {
      "cell_type": "code",
      "execution_count": 2,
      "metadata": {
        "id": "nLlAJn3Cox-G"
      },
      "outputs": [],
      "source": [
        "import numpy as np\n",
        "import nltk\n",
        "import string\n",
        "import random"
      ]
    },
    {
      "cell_type": "markdown",
      "metadata": {
        "id": "JtFQVsMipam5"
      },
      "source": [
        "reading the **corpus** **of** **text**"
      ]
    },
    {
      "cell_type": "code",
      "execution_count": 4,
      "metadata": {
        "id": "yQ4qjgDHpmk0"
      },
      "outputs": [],
      "source": [
        "f=open('/content/data.txt','r',errors='ignore')\n",
        "raw_doc=f.read()"
      ]
    },
    {
      "cell_type": "code",
      "execution_count": null,
      "metadata": {
        "colab": {
          "base_uri": "https://localhost:8080/",
          "height": 244
        },
        "id": "LoXhMeMSroXC",
        "outputId": "7db7bcab-566c-4c6c-e8b7-6c6224335e2d"
      },
      "outputs": [
        {
          "data": {
            "application/vnd.google.colaboratory.intrinsic+json": {
              "type": "string"
            },
            "text/plain": [
              "'\\nChatbot\\nFrom Wikipedia, the free encyclopedia\\nJump to navigationJump to search\\nFor other uses, see Chatbot (disambiguation).\\n\\nA virtual assistant chatbot\\n\\nThe 1966 ELIZA chatbot\\nA chatbot or chatterbot is a software application used to conduct an on-line chat conversation via text or text-to-speech, in lieu of providing direct contact with a live human agent.[1][2] Designed to convincingly simulate the way a human would behave as a conversational partner, chatbot systems typically require continuous tuning and testing, and many in production remain unable to adequately converse, while none of them can pass the standard Turing test.[3] The term \"ChatterBot\" was originally coined by Michael Mauldin (creator of the first Verbot) in 1994 to describe these conversational programs.[4]\\n\\nChatbots are used in dialog systems for various purposes including customer service, request routing, or information gathering. While some chatbot applications use extensive word-classification processes, natural-language processors, and sophisticated AI, others simply scan for general keywords and generate responses using common phrases obtained from an associated library or database.\\n\\nMost chatbots are accessed on-line via website popups or through virtual assistants. They can be classified into usage categories that include: commerce (e-commerce via chat), education, entertainment, finance, health, news, and productivity.[5]\\n\\n\\nContents\\n1\\tBackground\\n2\\tDevelopment\\n3\\tApplication\\n3.1\\tMessaging apps\\n3.1.1\\tAs part of company apps and websites\\n3.1.2\\tChatbot sequences\\n3.2\\tCompany internal platforms\\n3.3\\tCustomer service\\n3.4\\tHealthcare\\n3.5\\tPolitics\\n3.6\\tToys\\n3.7\\tMalicious use\\n4\\tLimitations of chatbots\\n5\\tChatbots and jobs\\n6\\tSee also\\n7\\tReferences\\n7.1\\tBibliography\\n8\\tFurther reading\\n9\\tExternal links\\nBackground\\nIn 1950, Alan Turing\\'s famous article \"Computing Machinery and Intelligence\" was published,[6] which proposed what is now called the Turing test as a criterion of intelligence. This criterion depends on the ability of a computer program to impersonate a human in a real-time written conversation with a human judge to the extent that the judge is unable to distinguish reliably—on the basis of the conversational content alone—between the program and a real human. The notoriety of Turing\\'s proposed test stimulated great interest in Joseph Weizenbaum\\'s program ELIZA, published in 1966, which seemed to be able to fool users into believing that they were conversing with a real human. However Weizenbaum himself did not claim that ELIZA was genuinely intelligent, and the introduction to his paper presented it more as a debunking exercise:\\n\\n[In] artificial intelligence ... machines are made to behave in wondrous ways, often sufficient to dazzle even the most experienced observer. But once a particular program is unmasked, once its inner workings are explained ... its magic crumbles away; it stands revealed as a mere collection of procedures ... The observer says to himself \"I could have written that\". With that thought, he moves the program in question from the shelf marked \"intelligent\", to that reserved for curios ... The object of this paper is to cause just such a re-evaluation of the program about to be \"explained\". Few programs ever needed it more.[7]\\n\\nELIZA\\'s key method of operation (copied by chatbot designers ever since) involves the recognition of clue words or phrases in the input, and the output of the corresponding pre-prepared or pre-programmed responses that can move the conversation forward in an apparently meaningful way (e.g. by responding to any input that contains the word \\'MOTHER\\' with \\'TELL ME MORE ABOUT YOUR FAMILY\\').[8] Thus an illusion of understanding is generated, even though the processing involved has been merely superficial. ELIZA showed that such an illusion is surprisingly easy to generate because human judges are so ready to give the benefit of the doubt when conversational responses are capable of being interpreted as \"intelligent\".\\n\\nInterface designers have come to appreciate that humans\\' readiness to interpret computer output as genuinely conversational—even when it is actually based on rather simple pattern-matching—can be exploited for useful purposes. Most people prefer to engage with programs that are human-like, and this gives chatbot-style techniques a potentially useful role in interactive systems that need to elicit information from users, as long as that information is relatively straightforward and falls into predictable categories. Thus, for example, online help systems can usefully employ chatbot techniques to identify the area of help that users require, potentially providing a \"friendlier\" interface than a more formal search or menu system. This sort of usage holds the prospect of moving chatbot technology from Weizenbaum\\'s \"shelf ... reserved for curios\" to that marked \"genuinely useful computational methods\".\\n\\nDevelopment\\nAmong the most notable early chatbots are ELIZA (1966) and PARRY (1972).[9][10][11][12] More recent notable programs include A.L.I.C.E., Jabberwacky and D.U.D.E (Agence Nationale de la Recherche and CNRS 2006). While ELIZA and PARRY were used exclusively to simulate typed conversation, many chatbots now include other functional features, such as games and web searching abilities. In 1984, a book called The Policeman\\'s Beard is Half Constructed was published, allegedly written by the chatbot Racter (though the program as released would not have been capable of doing so).[13]\\n\\nOne pertinent field of AI research is natural-language processing. Usually, weak AI fields employ specialized software or programming languages created specifically for the narrow function required. For example, A.L.I.C.E. uses a markup language called AIML,[2] which is specific to its function as a conversational agent, and has since been adopted by various other developers of, so-called, Alicebots. Nevertheless, A.L.I.C.E. is still purely based on pattern matching techniques without any reasoning capabilities, the same technique ELIZA was using back in 1966. This is not strong AI, which would require sapience and logical reasoning abilities.\\n\\nJabberwacky learns new responses and context based on real-time user interactions, rather than being driven from a static database. Some more recent chatbots also combine real-time learning with evolutionary algorithms that optimize their ability to communicate based on each conversation held. Still, there is currently no general purpose conversational artificial intelligence, and some software developers focus on the practical aspect, information retrieval.\\n\\nChatbot competitions focus on the Turing test or more specific goals. Two such annual contests are the Loebner Prize and The Chatterbox Challenge (the latter has been offline since 2015, however, materials can still be found from web archives).[14]\\n\\nDBpedia created a chatbot during the GSoC of 2017.[15][16][17] It can communicate through Facebook Messenger.\\n\\nIn November 2022, OpenAI developed an AI chatbot called ChatGPT which interacts using conversation to the general public and has garnered attention for its detailed responses and historical knowledge, although its accuracy has been criticized.\\n\\nApplication\\nSee also: Virtual assistant\\nMessaging apps\\nMany companies\\' chatbots run on messaging apps or simply via SMS. They are used for B2C customer service, sales and marketing.[18]\\n\\nIn 2016, Facebook Messenger allowed developers to place chatbots on their platform. There were 30,000 bots created for Messenger in the first six months, rising to 100,000 by September 2017.[19]\\n\\nSince September 2017, this has also been as part of a pilot program on WhatsApp. Airlines KLM and Aeroméxico both announced their participation in the testing;[20][21][22][23] both airlines had previously launched customer services on the Facebook Messenger platform.\\n\\nThe bots usually appear as one of the user\\'s contacts, but can sometimes act as participants in a group chat.\\n\\nMany banks, insurers, media companies, e-commerce companies, airlines, hotel chains, retailers, health care providers, government entities and restaurant chains have used chatbots to answer simple questions, increase customer engagement,[24] for promotion, and to offer additional ways to order from them.[25]\\n\\nA 2017 study showed 4% of companies used chatbots.[26] According to a 2016 study, 80% of businesses said they intended to have one by 2020.[27]\\n\\nAs part of company apps and websites\\nPrevious generations of chatbots were present on company websites, e.g. Ask Jenn from Alaska Airlines which debuted in 2008[28] or Expedia\\'s virtual customer service agent which launched in 2011.[28][29] The newer generation of chatbots includes IBM Watson-powered \"Rocky\", introduced in February 2017 by the New York City-based e-commerce company Rare Carat to provide information to prospective diamond buyers.[30][31]\\n\\nChatbot sequences\\nUsed by marketers to script sequences of messages, very similar to an Autoresponder sequence. Such sequences can be triggered by user opt-in or the use of keywords within user interactions. After a trigger occurs a sequence of messages is delivered until the next anticipated user response. Each user response is used in the decision tree to help the chatbot navigate the response sequences to deliver the correct response message.\\n\\nCompany internal platforms\\nOther companies explore ways they can use chatbots internally, for example for Customer Support, Human Resources, or even in Internet-of-Things (IoT) projects. Overstock.com, for one, has reportedly launched a chatbot named Mila to automate certain simple yet time-consuming processes when requesting sick leave.[32] Other large companies such as Lloyds Banking Group, Royal Bank of Scotland, Renault and Citroën are now using automated online assistants instead of call centres with humans to provide a first point of contact. A SaaS chatbot business ecosystem has been steadily growing since the F8 Conference when Facebook\\'s Mark Zuckerberg unveiled that Messenger would allow chatbots into the app.[33] In large companies, like in hospitals and aviation organizations, IT architects are designing reference architectures for Intelligent Chatbots that are used to unlock and share knowledge and experience in the organization more efficiently, and reduce the errors in answers from expert service desks significantly.[34] These Intelligent Chatbots make use of all kinds of artificial intelligence like image moderation and natural-language understanding (NLU), natural-language generation (NLG), machine learning and deep learning.\\n\\nCustomer service\\nMany high-tech banking organizations are looking to integrate automated AI-based solutions such as chatbots into their customer service in order to provide faster and cheaper assistance to their clients who are becoming increasingly comfortable with technology. In particular, chatbots can efficiently conduct a dialogue, usually replacing other communication tools such as email, phone, or SMS. In banking, their major application is related to quick customer service answering common requests, as well as transactional support.\\n\\nSeveral studies report significant reduction in the cost of customer services, expected to lead to billions of dollars of economic savings in the next ten years.[35] In 2019, Gartner predicted that by 2021, 15% of all customer service interactions globally will be handled completely by AI.[36] A study by Juniper Research in 2019 estimates retail sales resulting from chatbot-based interactions will reach $112 billion by 2023.[37]\\n\\nSince 2016, when Facebook allowed businesses to deliver automated customer support, e-commerce guidance, content, and interactive experiences through chatbots, a large variety of chatbots were developed for the Facebook Messenger platform.[38]\\n\\nIn 2016, Russia-based Tochka Bank launched the world\\'s first Facebook bot for a range of financial services, including a possibility of making payments.[39]\\n\\nIn July 2016, Barclays Africa also launched a Facebook chatbot, making it the first bank to do so in Africa.[40]\\n\\nThe France\\'s third-largest bank by total assets[41] Société Générale launched their chatbot called SoBot in March 2018. While 80% of users of the SoBot expressed their satisfaction after having tested it, Société Générale deputy director Bertrand Cozzarolo stated that it will never replace the expertise provided by a human advisor. [42]\\n\\nThe advantages of using chatbots for customer interactions in banking include cost reduction, financial advice, and 24/7 support.[43][44]\\n\\nHealthcare\\nSee also: Artificial intelligence in healthcare\\nChatbots are also appearing in the healthcare industry.[45][46] A study suggested that physicians in the United States believed that chatbots would be most beneficial for scheduling doctor appointments, locating health clinics, or providing medication information.[47]\\n\\nWhatsapp has teamed up with the World Health Organisation (WHO) to make a chatbot service that answers users’ questions on COVID-19.[48]\\n\\nIn 2020, The Indian Government launched a chatbot called MyGov Corona Helpdesk,[49] that worked through Whatsapp and helped people access information about the Coronavirus (COVID-19) pandemic.[50][51] In the Philippines, the Medical City Clinic chatbot handles 8400+ chats a month, reducing wait times, including more native Tagalog and Cebuano speakers and improving overall patient experience.[52]\\n\\nCertain patient groups are still reluctant to use chatbots. A mixed-methods study showed that people are still hesitant to use chatbots for their healthcare due to poor understanding of the technological complexity, the lack of empathy, and concerns about cyber-security.[53] The analysis showed that while 6% had heard of a health chatbot and 3% had experience of using it, 67% perceived themselves as likely to use one within 12 months. The majority of participants would use a health chatbot for seeking general health information (78%), booking a medical appointment (78%), and looking for local health services (80%). However, a health chatbot was perceived as less suitable for seeking results of medical tests and seeking specialist advice such as sexual health. The analysis of attitudinal variables showed that most participants reported their preference for discussing their health with doctors (73%) and having access to reliable and accurate health information (93%). While 80% were curious about new technologies that could improve their health, 66% reported only seeking a doctor when experiencing a health problem and 65% thought that a chatbot was a good idea. Interestingly, 30% reported dislike about talking to computers, 41% felt it would be strange to discuss health matters with a chatbot and about half were unsure if they could trust the advice given by a chatbot. Therefore, perceived trustworthiness, individual attitudes towards bots, and dislike for talking to computers are the main barriers to health chatbots.\\n\\nPolitics\\nSee also: Government by algorithm § AI politicians\\nIn New Zealand, the chatbot SAM – short for Semantic Analysis Machine[54] (made by Nick Gerritsen of Touchtech[55]) – has been developed. It is designed to share its political thoughts, for example on topics such as climate change, healthcare and education, etc. It talks to people through Facebook Messenger.[56][57][58][59]\\n\\nIn 2022, the chatbot \"Leader Lars\" or \"Leder Lars\" was nominated for The Synthetic Party to run in the Danish parliamentary election,[60] and was built by the artist collective Computer Lars.[61] Leader Lars differed from earlier virtual politicians by leading a political party and by not pretending to be an objective candidate.[62] This chatbot engaged in critical discussions on politics with users from around the world.[63]\\n\\nIn India, the state government has launched a chatbot for its Aaple Sarkar platform,[64] which provides conversational access to information regarding public services managed.[65][66]\\n\\nToys\\nChatbots have also been incorporated into devices not primarily meant for computing, such as toys.[67]\\n\\nHello Barbie is an Internet-connected version of the doll that uses a chatbot provided by the company ToyTalk,[68] which previously used the chatbot for a range of smartphone-based characters for children.[69] These characters\\' behaviors are constrained by a set of rules that in effect emulate a particular character and produce a storyline.[70]\\n\\nThe My Friend Cayla doll was marketed as a line of 18-inch (46 cm) dolls which uses speech recognition technology in conjunction with an Android or iOS mobile app to recognize the child\\'s speech and have a conversation. It, like the Hello Barbie doll, attracted controversy due to vulnerabilities with the doll\\'s Bluetooth stack and its use of data collected from the child\\'s speech.\\n\\nIBM\\'s Watson computer has been used as the basis for chatbot-based educational toys for companies such as CogniToys[67] intended to interact with children for educational purposes.[71]\\n\\nMalicious use\\nMalicious chatbots are frequently used to fill chat rooms with spam and advertisements, by mimicking human behavior and conversations or to entice people into revealing personal information, such as bank account numbers. They were commonly found on Yahoo! Messenger, Windows Live Messenger, AOL Instant Messenger and other instant messaging protocols. There has also been a published report of a chatbot used in a fake personal ad on a dating service\\'s website.[72]\\n\\nTay, an AI chatbot that learns from previous interaction, caused major controversy due to it being targeted by internet trolls on Twitter. The bot was exploited, and after 16 hours began to send extremely offensive Tweets to users. This suggests that although the bot learned effectively from experience, adequate protection was not put in place to prevent misuse.[73]\\n\\nIf a text-sending algorithm can pass itself off as a human instead of a chatbot, its message would be more credible. Therefore, human-seeming chatbots with well-crafted online identities could start scattering fake news that seems plausible, for instance making false claims during an election. With enough chatbots, it might be even possible to achieve artificial social proof.[74][75]\\n\\nLimitations of chatbots\\nThe creation and implementation of chatbots is still a developing area, heavily related to artificial intelligence and machine learning, so the provided solutions, while possessing obvious advantages, have some important limitations in terms of functionalities and use cases. However, this is changing over time.\\n\\nThe most common limitations are listed below:[76]\\n\\nAs the database, used for output generation, is fixed and limited, chatbots can fail while dealing with an unsaved query.[44]\\nA chatbot\\'s efficiency highly depends on language processing and is limited because of irregularities, such as accents and mistakes.\\nChatbots are unable to deal with multiple questions at the same time and so conversation opportunities are limited.[76]\\nChatbots require a large amount of conversational data to train. Generative models, which are based on deep learning algorithms to generate new responses word by word based on user input, are usually trained on a large dataset of natural-language phrases.[2]\\nChatbots have difficulty managing non-linear conversations that must go back and forth on a topic with a user.[77]\\nAs it happens usually with technology-led changes in existing services, some consumers, more often than not from older generations, are uncomfortable with chatbots due to their limited understanding, making it obvious that their requests are being dealt with by machines.[76]\\nChatbots and jobs\\nChatbots are increasingly present in businesses and often are used to automate tasks that do not require skill-based talents. With customer service taking place via messaging apps as well as phone calls, there are growing numbers of use-cases where chatbot deployment gives organizations a clear return on investment. Call center workers may be particularly at risk from AI-driven chatbots.[78]\\n\\nChatbot jobs\\n\\nChatbot developers create, debug, and maintain applications that automate customer services or other communication processes. Their duties include reviewing and simplifying code when needed. They may also help companies implement bots in their operations.\\n\\nA study by Forrester (June 2017) predicted that 25% of all jobs would be impacted by AI technologies by 2019.[79]\\n\\nSee also\\nicon\\tLinguistics portal\\nApplications of artificial intelligence\\nArtificial philosophy\\nAutonomous agent\\nChatGPT\\nConversational user interface\\nEugene Goostman\\nFriendly artificial intelligence\\nHybrid intelligent system\\nIntelligent agent\\nInternet bot\\nList of chatbots\\nMulti-agent system\\nNatural language processing\\nSocial bot\\nSoftware agent\\nSoftware bot\\nTwitterbot\\nVirtual assistant\\nReferences\\n \"What is a chatbot?\". techtarget.com. Retrieved 30 January 2017.\\n Caldarini, Guendalina; Jaf, Sardar; McGarry, Kenneth (2022). \"A Literature Survey of Recent Advances in Chatbots\". Information. MDPI. 13 (1): 41. doi:10.3390/info13010041.\\n Luka Bradeško, Dunja Mladenić. \"A Survey of Chabot Systems through a Loebner Prize Competition\". S2CID 39745939.\\n Mauldin 1994\\n \"2017 Messenger Bot Landscape, a Public Spreadsheet Gathering 1000+ Messenger Bots\". 3 May 2017.\\n (Turing 1950)\\n (Weizenbaum 1966, p. 36)\\n (Weizenbaum 1966, pp. 44–5)\\n GüzeldereFranchi 1995\\n Computer History Museum 2006\\n Sondheim 1997\\n Network Working Group 1973—Transcript of a session between Parry and Eliza. (This is not the dialogue from the ICCC, which took place October 24–26, 1972, whereas this session is from September 18, 1972.)\\n http://everything2.com/title/The+Policeman%2527s+Beard+is+Half+Constructed 13 November 1999\\n \"Chatroboter simulieren Menschen\".\\n \"DBpedia Chatbot\". chat.dbpedia.org.\\n \"Meet the DBpedia Chatbot | DBpedia\". wiki.dbpedia.org. 22 August 2018.\\n \"Meet the DBpedia Chatbot\". August 22, 2018.\\n Beaver, Laurie (July 2016). The Chatbots Explainer. BI Intelligence.\\n \"Facebook Messenger Hits 100,000 bots\". 2017-04-18. Retrieved 2017-09-22.\\n \"KLM claims airline first with WhatsApp Business Platform\". www.phocuswire.com.\\n Forbes Staff (26 October 2017). \"Aeroméxico te atenderá por WhatsApp durante 2018\". Retrieved 2 July 2018.\\n Redacción (27 October 2017). \"Podrás hacer \\'check in\\' y consultar tu vuelo con Aeroméxico a través de WhatsApp\". Huffington Post. Archived from the original on 10 March 2018. Retrieved 2 July 2018.\\n \"Building for People, and Now Businesses\". WhatsApp.com. Retrieved 2 July 2018.\\n \"She is the company\\'s most effective employee\". Nordea News.\\n \"Better believe the bot boom is blowing up big for B2B, B2C businesses\". VentureBeat. 2016-07-24.\\n \"The AI Revolution is Underway! – PM360\". www.pm360online.com. Retrieved 2 July 2018.\\n \"80% of businesses want chatbots by 2020\". Business Insider. Retrieved 2 July 2018.\\n \"A Virtual Travel Agent With All the Answers\". The New York Times. 4 March 2008.\\n \"Chatbot vendor directory released –\". www.hypergridbusiness.com.\\n \"Rare Carat\\'s Watson-powered chatbot will help you put a diamond ring on it\". TechCrunch. February 15, 2017.\\n \"10 ways you may have already used IBM Watson\". VentureBeat. March 10, 2017.\\n Greenfield, Rebecca (5 May 2016). \"Chatbots Are Your Newest, Dumbest Co-Workers\". Bloomberg.com.\\n \"Facebook opens its Messenger platform to chatbots\". 12 April 2016.\\n \"Chatbot Reference Architecture\". 1 January 2019.\\n \"How Chatbots are Transforming Wall Street and Main Street Banks?\". 1 April 2019.\\n \"How to Manage Customer Service Technology Innovation\". www.gartner.com. Archived from the original on December 11, 2019. Retrieved 2020-01-02.\\n \"CHATBOT INTERACTIONS IN RETAIL TO REACH 22 BILLION BY 2023, AS AI OFFERS COMPELLING NEW ENGAGEMENT SOLUTIONS\". www.juniperresearch.com. Retrieved 2020-01-02.\\n \"Facebook launches Messenger platform with chatbots\". 1 April 2019.\\n \"Российский банк запустил чат-бота в Facebook\". 1 April 2019.\\n \"Absa launches \\'world-first\\' Facebook Messenger banking\". 1 April 2019.\\n \"The Biggest French Banks by Total Assets\". Banks around the World. Retrieved April 1, 2019.\\n \"GAGNER DU TEMPS AVEC LE CHATBOT BANCAIRE POUR GAGNER EN INTELLIGENCE AVEC LES CONSEILLERS\". Marketing Client. Retrieved April 1, 2019.\\n \"Meet 11 of the Most Interesting Chatbots in Banking\". The Financial Brain. 14 March 2018. Retrieved April 1, 2019.\\n \"CHATBOTS: BOON OR BANE?\". bluelupin. 9 January 2018. Retrieved April 1, 2019.\\n Larson, Selena (October 11, 2016). \"Baidu is bringing AI chatbots to healthcare\". CNN Money.\\n \"AI chatbots have a future in healthcare, with caveats\". AI in Healthcare.\\n Palanica, Adam; Flaschner, Peter; Thommandram, Anirudh; Li, Michael; Fossat, Yan (January 3, 2019). \"Physicians\\' Perceptions of Chatbots in Health Care: Cross-Sectional Web-Based Survey\". Journal of Medical Internet Research. 21 (4): e12887. doi:10.2196/12887. PMC 6473203. PMID 30950796.\\n Ahaskar, Abhijit (2020-03-27). \"How WhatsApp chatbots are helping in the fight against Covid-19\". Mint. Retrieved 2020-07-23.\\n \"India\\'s Coronavirus Chatbot on WhatsApp Crosses 1.7 Crore Users in 10 Days\". NDTV Gadgets 360. Retrieved 2020-07-23.\\n Kurup, Rajesh (21 March 2020). \"COVID-19: Govt of India launches a WhatsApp chatbot\". Business Line. Retrieved 2020-07-23.\\n \"In focus: Mumbai-based Haptik which developed India\\'s official WhatsApp chatbot for Covid-19\". Hindustan Times. 7 April 2020. Retrieved 2020-07-23.\\n \"AI-enabled patient experience improvement in the Philippines\". www.proto.cx. 22 September 2022. Retrieved 22 September 2022.\\n Nadarzynski, Tom; Miles, Oliver; Cowie, Aimee; Ridge, Damien (January 1, 2019). \"Acceptability of artificial intelligence (AI)-led chatbot services in healthcare: A mixed-methods study\". Digital Health. 5: 2055207619871808. doi:10.1177/2055207619871808. PMC 6704417. PMID 31467682.\\n \"Sam, the virtual politician\". Tuia Innovation.\\n Wellington, Victoria University of (December 15, 2017). \"Meet the world\\'s first virtual politician\". Victoria University of Wellington.\\n Wagner, Meg (23 November 2017). \"This virtual politician wants to run for office\". CNN.\\n \"Talk with the first-ever robot politician on Facebook Messenger\". Engadget.\\n Prakash, Abishur (August 8, 2018). \"AI-Politicians: A Revolution In Politics\". Medium.\\n SAM website\\n Sternberg, Sarah (20 June 2022). \"Danskere vil ind på den politiske scene med kunstig intelligens\" [Danes want to enter the political scene with artificial intelligence]. Jyllands-Posten. Retrieved 2022-06-20.\\n Diwakar, Amar (2022-08-22). \"Can an AI-led Danish party usher in an age of algorithmic politics?\". TRT World. Retrieved 2022-08-22.\\n Xiang, Chloe (13 October 2022). \"This Danish Political Party Is Led by an AI\". Vice: Motherboard. Retrieved 2022-10-13.\\n Hearing, Alice (14 October 2022). \"A.I. chatbot is leading a Danish political party and setting its policies. Now users are grilling it for its stance on political landmines\". Fortune.\\n \"Maharashtra government launches Aaple Sarkar chatbot to provide info on 1,400 public services\". CNBC TV18. 5 March 2019. Retrieved 2020-07-23.\\n \"Government of Maharashtra launches Aaple Sarkar chatbot with Haptik\". The Economic Times. Retrieved 2020-07-23.\\n Aggarwal, Varun (5 March 2019). \"Maharashtra launches Aaple Sarkar chatbot\". Business Line. Retrieved 2020-07-23.\\n Amy (2015-02-23). \"Conversational Toys – The Latest Trend in Speech Technology\". Virtual Agent Chat. Archived from the original on 2018-02-21. Retrieved 2016-08-11.\\n NAGY, EVIE (13 February 2015). \"USING TOY-TALK TECHNOLOGY, NEW HELLO BARBIE WILL HAVE REAL CONVERSATIONS WITH KIDS\". Fast Company. Retrieved 18 March 2015.\\n Oren Jacob, the co-founder and CEO of ToyTalk interviewed on the TV show Triangulation on the TWiT.tv network\\n \"Artificial intelligence script tool\".\\n Takahashi, Dean (23 February 2015). \"Elemental\\'s smart connected toy taps IBM\\'s Watson supercomputer for its brains\". Venture Beat. Retrieved 15 May 2015.\\n \"From Russia With Love\" (PDF). Retrieved 2007-12-09. Psychologist and Scientific American: Mind contributing editor Robert Epstein reports how he was initially fooled by a chatterbot posing as an attractive girl in a personal ad he answered on a dating website. In the ad, the girl portrayed herself as being in Southern California and then soon revealed, in poor English, that she was actually in Russia. He became suspicious after a couple of months of email exchanges, sent her an email test of gibberish, and she still replied in general terms. The dating website is not named. Scientific American: Mind, October–November 2007, page 16–17, \"From Russia With Love: How I got fooled (and somewhat humiliated) by a computer\". Also available online.\\n Bird, Jordan J.; Ekart, Aniko; Faria, Diego R. (June 2018). Learning from Interaction: An Intelligent Networked-based Human-bot and Bot-bot Chatbot System in: Advances in Computational Intelligence Systems (1st ed.). Nottingham, UK: Springer. pp. 179–190. doi:10.1007/978-3-319-97982-3_15. ISBN 978-3-319-97982-3. S2CID 52069140.\\n \"Fake News\". 20 November 2018. Retrieved 2018-11-20.\\n \"Malicious uses\". Retrieved 2016-05-11.\\n \"Meet 11 of the Most Interesting Chatbots in Banking\". 14 March 2018. Retrieved 2019-04-01.\\n Grudin, Jonathan; Jacques, Richard (2019), \"Chatbots, Humbots, and the Quest for Artificial General Intelligence\", Proceedings of the 2019 CHI Conference on Human Factors in Computing Systems – CHI \\'19, ACM CHI 2020, pp. 209–219, doi:10.1145/3290605.3300439, ISBN 978-1-4503-5970-2, S2CID 140274744\\n \"How talking machines are taking call center jobs\". BBC News. 23 August 2018. Retrieved 2019-04-01.\\n \"How chatbots are killing jobs (and creating new ones)\". June 2017. Retrieved 2019-04-01.\\nBibliography\\nComputer History Museum (2006), \"Internet History—1970\\'s\", Exhibits, Computer History Museum, archived from the original on 2008-02-21, retrieved 2008-03-05\\nGüzeldere, Güven; Franchi, Stefano (1995-07-24), \"Constructions of the Mind\", Stanford Humanities Review, SEHR, Stanford University, 4 (2), retrieved 2008-03-05\\nMauldin, Michael (1994), \"ChatterBots, TinyMuds, and the Turing Test: Entering the Loebner Prize Competition\", Proceedings of the Eleventh National Conference on Artificial Intelligence, AAAI Press, retrieved 2008-03-05 (abstract)\\nNetwork Working Group (1973), \"RFC 439, PARRY Encounters the DOCTOR\", Internet Engineering Task Force, Internet Society, doi:10.17487/RFC0439, retrieved 2008-03-05\\nSondheim, Alan J (1997), <nettime> Important Documents from the Early Internet (1972), nettime.org, archived from the original on 2008-06-13, retrieved 2008-03-05\\nTuring, Alan (1950), \"Computing Machinery and Intelligence\", Mind, 59 (236): 433–60, doi:10.1093/mind/lix.236.433\\nWeizenbaum, Joseph (January 1966), \"ELIZA—A Computer Program For the Study of Natural Language Communication Between Man And Machine\", Communications of the ACM, 9 (1): 36–45, doi:10.1145/365153.365168, S2CID 1896290\\nFurther reading\\nSearle, John (1980), \"Minds, Brains and Programs\", Behavioral and Brain Sciences, 3 (3): 417–457, doi:10.1017/S0140525X00005756, S2CID 55303721\\nShevat, Amir (2017). Designing bots: Creating conversational experiences (First ed.). Sebastopol, CA: O\\'Reilly Media. ISBN 978-1-4919-7482-7. OCLC 962125282.\\nExternal links\\n Media related to Chatbots at Wikimedia Commons\\n Conversational bots at Wikibooks\\nvte\\nNatural language processing\\nPortal:\\nicon Language\\nAuthority control: National libraries Edit this at Wikidata\\t\\nGermanyCzech Republic\\nCategories: ChatbotsInstant messagingInteractive narrativeNatural language parsing\\nNavigation menu\\nNot logged in\\nTalk\\nContributions\\nCreate account\\nLog in\\nArticleTalk\\nReadEditView history\\nSearch Wikipedia\\nMain page\\nContents\\nCurrent events\\nRandom article\\nAbout Wikipedia\\nContact us\\nDonate\\nContribute\\nHelp\\nLearn to edit\\nCommunity portal\\nRecent changes\\nUpload file\\nTools\\nWhat links here\\nRelated changes\\nSpecial pages\\nPermanent link\\nPage information\\nCite this page\\nWikidata item\\nPrint/export\\nDownload as PDF\\nPrintable version\\nIn other projects\\nWikimedia Commons\\nWikibooks\\n\\nLanguages\\nالعربية\\nবাংলা\\nEspañol\\nFrançais\\nBahasa Indonesia\\nPortuguês\\nРусский\\nதமிழ்\\n中文\\n30 more\\nEdit links\\nThis page was last edited on 30 December 2022, at 01:23 (UTC).\\nText is available under the Creative Commons Attribution-ShareAlike License 3.0; additional terms may apply. By using this site, you agree to the Terms of Use and Privacy Policy. Wikipedia® is a registered trademark of the Wikimedia Foundation, Inc., a non-profit organization.\\nPrivacy policyAbout WikipediaDisclaimersContact WikipediaMobile viewDevelopersStatisticsCookie statementWikimedia FoundationPowered by MediaWiki'"
            ]
          },
          "execution_count": 4,
          "metadata": {},
          "output_type": "execute_result"
        }
      ],
      "source": [
        "raw_doc"
      ]
    },
    {
      "cell_type": "code",
      "execution_count": 5,
      "metadata": {
        "colab": {
          "base_uri": "https://localhost:8080/"
        },
        "id": "ihXYtTfzrxzI",
        "outputId": "6232992a-c016-4f85-d193-74ae8ed19dd3"
      },
      "outputs": [
        {
          "name": "stderr",
          "output_type": "stream",
          "text": [
            "[nltk_data] Downloading package punkt to /root/nltk_data...\n",
            "[nltk_data]   Unzipping tokenizers/punkt.zip.\n",
            "[nltk_data] Downloading package wordnet to /root/nltk_data...\n",
            "[nltk_data] Downloading package omw-1.4 to /root/nltk_data...\n"
          ]
        },
        {
          "data": {
            "text/plain": [
              "True"
            ]
          },
          "execution_count": 5,
          "metadata": {},
          "output_type": "execute_result"
        }
      ],
      "source": [
        "raw_doc=raw_doc.lower()\n",
        "nltk.download('punkt')\n",
        "nltk.download('wordnet')\n",
        "nltk.download('omw-1.4')\n"
      ]
    },
    {
      "cell_type": "code",
      "execution_count": 6,
      "metadata": {
        "colab": {
          "base_uri": "https://localhost:8080/",
          "height": 122
        },
        "id": "0DH9xsUdtQG-",
        "outputId": "94163a39-cf54-408b-b91b-641c9fdf9fb9"
      },
      "outputs": [
        {
          "data": {
            "application/vnd.google.colaboratory.intrinsic+json": {
              "type": "string"
            },
            "text/plain": [
              "'\\nchatbot\\nfrom wikipedia, the free encyclopedia\\njump to navigationjump to search\\nfor other uses, see chatbot (disambiguation).\\n\\na virtual assistant chatbot\\n\\nthe 1966 eliza chatbot\\na chatbot or chatterbot is a software application used to conduct an on-line chat conversation via text or text-to-speech, in lieu of providing direct contact with a live human agent.[1][2] designed to convincingly simulate the way a human would behave as a conversational partner, chatbot systems typically require continuous tuning and testing, and many in production remain unable to adequately converse, while none of them can pass the standard turing test.[3] the term \"chatterbot\" was originally coined by michael mauldin (creator of the first verbot) in 1994 to describe these conversational programs.[4]\\n\\nchatbots are used in dialog systems for various purposes including customer service, request routing, or information gathering. while some chatbot applications use extensive word-classification processes, natural-language processors, and sophisticated ai, others simply scan for general keywords and generate responses using common phrases obtained from an associated library or database.\\n\\nmost chatbots are accessed on-line via website popups or through virtual assistants. they can be classified into usage categories that include: commerce (e-commerce via chat), education, entertainment, finance, health, news, and productivity.[5]\\n\\n\\ncontents\\n1\\tbackground\\n2\\tdevelopment\\n3\\tapplication\\n3.1\\tmessaging apps\\n3.1.1\\tas part of company apps and websites\\n3.1.2\\tchatbot sequences\\n3.2\\tcompany internal platforms\\n3.3\\tcustomer service\\n3.4\\thealthcare\\n3.5\\tpolitics\\n3.6\\ttoys\\n3.7\\tmalicious use\\n4\\tlimitations of chatbots\\n5\\tchatbots and jobs\\n6\\tsee also\\n7\\treferences\\n7.1\\tbibliography\\n8\\tfurther reading\\n9\\texternal links\\nbackground\\nin 1950, alan turing\\'s famous article \"computing machinery and intelligence\" was published,[6] which proposed what is now called the turing test as a criterion of intelligence. this criterion depends on the ability of a computer program to impersonate a human in a real-time written conversation with a human judge to the extent that the judge is unable to distinguish reliably—on the basis of the conversational content alone—between the program and a real human. the notoriety of turing\\'s proposed test stimulated great interest in joseph weizenbaum\\'s program eliza, published in 1966, which seemed to be able to fool users into believing that they were conversing with a real human. however weizenbaum himself did not claim that eliza was genuinely intelligent, and the introduction to his paper presented it more as a debunking exercise:\\n\\n[in] artificial intelligence ... machines are made to behave in wondrous ways, often sufficient to dazzle even the most experienced observer. but once a particular program is unmasked, once its inner workings are explained ... its magic crumbles away; it stands revealed as a mere collection of procedures ... the observer says to himself \"i could have written that\". with that thought, he moves the program in question from the shelf marked \"intelligent\", to that reserved for curios ... the object of this paper is to cause just such a re-evaluation of the program about to be \"explained\". few programs ever needed it more.[7]\\n\\neliza\\'s key method of operation (copied by chatbot designers ever since) involves the recognition of clue words or phrases in the input, and the output of the corresponding pre-prepared or pre-programmed responses that can move the conversation forward in an apparently meaningful way (e.g. by responding to any input that contains the word \\'mother\\' with \\'tell me more about your family\\').[8] thus an illusion of understanding is generated, even though the processing involved has been merely superficial. eliza showed that such an illusion is surprisingly easy to generate because human judges are so ready to give the benefit of the doubt when conversational responses are capable of being interpreted as \"intelligent\".\\n\\ninterface designers have come to appreciate that humans\\' readiness to interpret computer output as genuinely conversational—even when it is actually based on rather simple pattern-matching—can be exploited for useful purposes. most people prefer to engage with programs that are human-like, and this gives chatbot-style techniques a potentially useful role in interactive systems that need to elicit information from users, as long as that information is relatively straightforward and falls into predictable categories. thus, for example, online help systems can usefully employ chatbot techniques to identify the area of help that users require, potentially providing a \"friendlier\" interface than a more formal search or menu system. this sort of usage holds the prospect of moving chatbot technology from weizenbaum\\'s \"shelf ... reserved for curios\" to that marked \"genuinely useful computational methods\".\\n\\ndevelopment\\namong the most notable early chatbots are eliza (1966) and parry (1972).[9][10][11][12] more recent notable programs include a.l.i.c.e., jabberwacky and d.u.d.e (agence nationale de la recherche and cnrs 2006). while eliza and parry were used exclusively to simulate typed conversation, many chatbots now include other functional features, such as games and web searching abilities. in 1984, a book called the policeman\\'s beard is half constructed was published, allegedly written by the chatbot racter (though the program as released would not have been capable of doing so).[13]\\n\\none pertinent field of ai research is natural-language processing. usually, weak ai fields employ specialized software or programming languages created specifically for the narrow function required. for example, a.l.i.c.e. uses a markup language called aiml,[2] which is specific to its function as a conversational agent, and has since been adopted by various other developers of, so-called, alicebots. nevertheless, a.l.i.c.e. is still purely based on pattern matching techniques without any reasoning capabilities, the same technique eliza was using back in 1966. this is not strong ai, which would require sapience and logical reasoning abilities.\\n\\njabberwacky learns new responses and context based on real-time user interactions, rather than being driven from a static database. some more recent chatbots also combine real-time learning with evolutionary algorithms that optimize their ability to communicate based on each conversation held. still, there is currently no general purpose conversational artificial intelligence, and some software developers focus on the practical aspect, information retrieval.\\n\\nchatbot competitions focus on the turing test or more specific goals. two such annual contests are the loebner prize and the chatterbox challenge (the latter has been offline since 2015, however, materials can still be found from web archives).[14]\\n\\ndbpedia created a chatbot during the gsoc of 2017.[15][16][17] it can communicate through facebook messenger.\\n\\nin november 2022, openai developed an ai chatbot called chatgpt which interacts using conversation to the general public and has garnered attention for its detailed responses and historical knowledge, although its accuracy has been criticized.\\n\\napplication\\nsee also: virtual assistant\\nmessaging apps\\nmany companies\\' chatbots run on messaging apps or simply via sms. they are used for b2c customer service, sales and marketing.[18]\\n\\nin 2016, facebook messenger allowed developers to place chatbots on their platform. there were 30,000 bots created for messenger in the first six months, rising to 100,000 by september 2017.[19]\\n\\nsince september 2017, this has also been as part of a pilot program on whatsapp. airlines klm and aeroméxico both announced their participation in the testing;[20][21][22][23] both airlines had previously launched customer services on the facebook messenger platform.\\n\\nthe bots usually appear as one of the user\\'s contacts, but can sometimes act as participants in a group chat.\\n\\nmany banks, insurers, media companies, e-commerce companies, airlines, hotel chains, retailers, health care providers, government entities and restaurant chains have used chatbots to answer simple questions, increase customer engagement,[24] for promotion, and to offer additional ways to order from them.[25]\\n\\na 2017 study showed 4% of companies used chatbots.[26] according to a 2016 study, 80% of businesses said they intended to have one by 2020.[27]\\n\\nas part of company apps and websites\\nprevious generations of chatbots were present on company websites, e.g. ask jenn from alaska airlines which debuted in 2008[28] or expedia\\'s virtual customer service agent which launched in 2011.[28][29] the newer generation of chatbots includes ibm watson-powered \"rocky\", introduced in february 2017 by the new york city-based e-commerce company rare carat to provide information to prospective diamond buyers.[30][31]\\n\\nchatbot sequences\\nused by marketers to script sequences of messages, very similar to an autoresponder sequence. such sequences can be triggered by user opt-in or the use of keywords within user interactions. after a trigger occurs a sequence of messages is delivered until the next anticipated user response. each user response is used in the decision tree to help the chatbot navigate the response sequences to deliver the correct response message.\\n\\ncompany internal platforms\\nother companies explore ways they can use chatbots internally, for example for customer support, human resources, or even in internet-of-things (iot) projects. overstock.com, for one, has reportedly launched a chatbot named mila to automate certain simple yet time-consuming processes when requesting sick leave.[32] other large companies such as lloyds banking group, royal bank of scotland, renault and citroën are now using automated online assistants instead of call centres with humans to provide a first point of contact. a saas chatbot business ecosystem has been steadily growing since the f8 conference when facebook\\'s mark zuckerberg unveiled that messenger would allow chatbots into the app.[33] in large companies, like in hospitals and aviation organizations, it architects are designing reference architectures for intelligent chatbots that are used to unlock and share knowledge and experience in the organization more efficiently, and reduce the errors in answers from expert service desks significantly.[34] these intelligent chatbots make use of all kinds of artificial intelligence like image moderation and natural-language understanding (nlu), natural-language generation (nlg), machine learning and deep learning.\\n\\ncustomer service\\nmany high-tech banking organizations are looking to integrate automated ai-based solutions such as chatbots into their customer service in order to provide faster and cheaper assistance to their clients who are becoming increasingly comfortable with technology. in particular, chatbots can efficiently conduct a dialogue, usually replacing other communication tools such as email, phone, or sms. in banking, their major application is related to quick customer service answering common requests, as well as transactional support.\\n\\nseveral studies report significant reduction in the cost of customer services, expected to lead to billions of dollars of economic savings in the next ten years.[35] in 2019, gartner predicted that by 2021, 15% of all customer service interactions globally will be handled completely by ai.[36] a study by juniper research in 2019 estimates retail sales resulting from chatbot-based interactions will reach $112 billion by 2023.[37]\\n\\nsince 2016, when facebook allowed businesses to deliver automated customer support, e-commerce guidance, content, and interactive experiences through chatbots, a large variety of chatbots were developed for the facebook messenger platform.[38]\\n\\nin 2016, russia-based tochka bank launched the world\\'s first facebook bot for a range of financial services, including a possibility of making payments.[39]\\n\\nin july 2016, barclays africa also launched a facebook chatbot, making it the first bank to do so in africa.[40]\\n\\nthe france\\'s third-largest bank by total assets[41] société générale launched their chatbot called sobot in march 2018. while 80% of users of the sobot expressed their satisfaction after having tested it, société générale deputy director bertrand cozzarolo stated that it will never replace the expertise provided by a human advisor. [42]\\n\\nthe advantages of using chatbots for customer interactions in banking include cost reduction, financial advice, and 24/7 support.[43][44]\\n\\nhealthcare\\nsee also: artificial intelligence in healthcare\\nchatbots are also appearing in the healthcare industry.[45][46] a study suggested that physicians in the united states believed that chatbots would be most beneficial for scheduling doctor appointments, locating health clinics, or providing medication information.[47]\\n\\nwhatsapp has teamed up with the world health organisation (who) to make a chatbot service that answers users’ questions on covid-19.[48]\\n\\nin 2020, the indian government launched a chatbot called mygov corona helpdesk,[49] that worked through whatsapp and helped people access information about the coronavirus (covid-19) pandemic.[50][51] in the philippines, the medical city clinic chatbot handles 8400+ chats a month, reducing wait times, including more native tagalog and cebuano speakers and improving overall patient experience.[52]\\n\\ncertain patient groups are still reluctant to use chatbots. a mixed-methods study showed that people are still hesitant to use chatbots for their healthcare due to poor understanding of the technological complexity, the lack of empathy, and concerns about cyber-security.[53] the analysis showed that while 6% had heard of a health chatbot and 3% had experience of using it, 67% perceived themselves as likely to use one within 12 months. the majority of participants would use a health chatbot for seeking general health information (78%), booking a medical appointment (78%), and looking for local health services (80%). however, a health chatbot was perceived as less suitable for seeking results of medical tests and seeking specialist advice such as sexual health. the analysis of attitudinal variables showed that most participants reported their preference for discussing their health with doctors (73%) and having access to reliable and accurate health information (93%). while 80% were curious about new technologies that could improve their health, 66% reported only seeking a doctor when experiencing a health problem and 65% thought that a chatbot was a good idea. interestingly, 30% reported dislike about talking to computers, 41% felt it would be strange to discuss health matters with a chatbot and about half were unsure if they could trust the advice given by a chatbot. therefore, perceived trustworthiness, individual attitudes towards bots, and dislike for talking to computers are the main barriers to health chatbots.\\n\\npolitics\\nsee also: government by algorithm § ai politicians\\nin new zealand, the chatbot sam – short for semantic analysis machine[54] (made by nick gerritsen of touchtech[55]) – has been developed. it is designed to share its political thoughts, for example on topics such as climate change, healthcare and education, etc. it talks to people through facebook messenger.[56][57][58][59]\\n\\nin 2022, the chatbot \"leader lars\" or \"leder lars\" was nominated for the synthetic party to run in the danish parliamentary election,[60] and was built by the artist collective computer lars.[61] leader lars differed from earlier virtual politicians by leading a political party and by not pretending to be an objective candidate.[62] this chatbot engaged in critical discussions on politics with users from around the world.[63]\\n\\nin india, the state government has launched a chatbot for its aaple sarkar platform,[64] which provides conversational access to information regarding public services managed.[65][66]\\n\\ntoys\\nchatbots have also been incorporated into devices not primarily meant for computing, such as toys.[67]\\n\\nhello barbie is an internet-connected version of the doll that uses a chatbot provided by the company toytalk,[68] which previously used the chatbot for a range of smartphone-based characters for children.[69] these characters\\' behaviors are constrained by a set of rules that in effect emulate a particular character and produce a storyline.[70]\\n\\nthe my friend cayla doll was marketed as a line of 18-inch (46 cm) dolls which uses speech recognition technology in conjunction with an android or ios mobile app to recognize the child\\'s speech and have a conversation. it, like the hello barbie doll, attracted controversy due to vulnerabilities with the doll\\'s bluetooth stack and its use of data collected from the child\\'s speech.\\n\\nibm\\'s watson computer has been used as the basis for chatbot-based educational toys for companies such as cognitoys[67] intended to interact with children for educational purposes.[71]\\n\\nmalicious use\\nmalicious chatbots are frequently used to fill chat rooms with spam and advertisements, by mimicking human behavior and conversations or to entice people into revealing personal information, such as bank account numbers. they were commonly found on yahoo! messenger, windows live messenger, aol instant messenger and other instant messaging protocols. there has also been a published report of a chatbot used in a fake personal ad on a dating service\\'s website.[72]\\n\\ntay, an ai chatbot that learns from previous interaction, caused major controversy due to it being targeted by internet trolls on twitter. the bot was exploited, and after 16 hours began to send extremely offensive tweets to users. this suggests that although the bot learned effectively from experience, adequate protection was not put in place to prevent misuse.[73]\\n\\nif a text-sending algorithm can pass itself off as a human instead of a chatbot, its message would be more credible. therefore, human-seeming chatbots with well-crafted online identities could start scattering fake news that seems plausible, for instance making false claims during an election. with enough chatbots, it might be even possible to achieve artificial social proof.[74][75]\\n\\nlimitations of chatbots\\nthe creation and implementation of chatbots is still a developing area, heavily related to artificial intelligence and machine learning, so the provided solutions, while possessing obvious advantages, have some important limitations in terms of functionalities and use cases. however, this is changing over time.\\n\\nthe most common limitations are listed below:[76]\\n\\nas the database, used for output generation, is fixed and limited, chatbots can fail while dealing with an unsaved query.[44]\\na chatbot\\'s efficiency highly depends on language processing and is limited because of irregularities, such as accents and mistakes.\\nchatbots are unable to deal with multiple questions at the same time and so conversation opportunities are limited.[76]\\nchatbots require a large amount of conversational data to train. generative models, which are based on deep learning algorithms to generate new responses word by word based on user input, are usually trained on a large dataset of natural-language phrases.[2]\\nchatbots have difficulty managing non-linear conversations that must go back and forth on a topic with a user.[77]\\nas it happens usually with technology-led changes in existing services, some consumers, more often than not from older generations, are uncomfortable with chatbots due to their limited understanding, making it obvious that their requests are being dealt with by machines.[76]\\nchatbots and jobs\\nchatbots are increasingly present in businesses and often are used to automate tasks that do not require skill-based talents. with customer service taking place via messaging apps as well as phone calls, there are growing numbers of use-cases where chatbot deployment gives organizations a clear return on investment. call center workers may be particularly at risk from ai-driven chatbots.[78]\\n\\nchatbot jobs\\n\\nchatbot developers create, debug, and maintain applications that automate customer services or other communication processes. their duties include reviewing and simplifying code when needed. they may also help companies implement bots in their operations.\\n\\na study by forrester (june 2017) predicted that 25% of all jobs would be impacted by ai technologies by 2019.[79]\\n\\nsee also\\nicon\\tlinguistics portal\\napplications of artificial intelligence\\nartificial philosophy\\nautonomous agent\\nchatgpt\\nconversational user interface\\neugene goostman\\nfriendly artificial intelligence\\nhybrid intelligent system\\nintelligent agent\\ninternet bot\\nlist of chatbots\\nmulti-agent system\\nnatural language processing\\nsocial bot\\nsoftware agent\\nsoftware bot\\ntwitterbot\\nvirtual assistant\\nreferences\\n \"what is a chatbot?\". techtarget.com. retrieved 30 january 2017.\\n caldarini, guendalina; jaf, sardar; mcgarry, kenneth (2022). \"a literature survey of recent advances in chatbots\". information. mdpi. 13 (1): 41. doi:10.3390/info13010041.\\n luka bradeško, dunja mladenić. \"a survey of chabot systems through a loebner prize competition\". s2cid 39745939.\\n mauldin 1994\\n \"2017 messenger bot landscape, a public spreadsheet gathering 1000+ messenger bots\". 3 may 2017.\\n (turing 1950)\\n (weizenbaum 1966, p. 36)\\n (weizenbaum 1966, pp. 44–5)\\n güzelderefranchi 1995\\n computer history museum 2006\\n sondheim 1997\\n network working group 1973—transcript of a session between parry and eliza. (this is not the dialogue from the iccc, which took place october 24–26, 1972, whereas this session is from september 18, 1972.)\\n http://everything2.com/title/the+policeman%2527s+beard+is+half+constructed 13 november 1999\\n \"chatroboter simulieren menschen\".\\n \"dbpedia chatbot\". chat.dbpedia.org.\\n \"meet the dbpedia chatbot | dbpedia\". wiki.dbpedia.org. 22 august 2018.\\n \"meet the dbpedia chatbot\". august 22, 2018.\\n beaver, laurie (july 2016). the chatbots explainer. bi intelligence.\\n \"facebook messenger hits 100,000 bots\". 2017-04-18. retrieved 2017-09-22.\\n \"klm claims airline first with whatsapp business platform\". www.phocuswire.com.\\n forbes staff (26 october 2017). \"aeroméxico te atenderá por whatsapp durante 2018\". retrieved 2 july 2018.\\n redacción (27 october 2017). \"podrás hacer \\'check in\\' y consultar tu vuelo con aeroméxico a través de whatsapp\". huffington post. archived from the original on 10 march 2018. retrieved 2 july 2018.\\n \"building for people, and now businesses\". whatsapp.com. retrieved 2 july 2018.\\n \"she is the company\\'s most effective employee\". nordea news.\\n \"better believe the bot boom is blowing up big for b2b, b2c businesses\". venturebeat. 2016-07-24.\\n \"the ai revolution is underway! – pm360\". www.pm360online.com. retrieved 2 july 2018.\\n \"80% of businesses want chatbots by 2020\". business insider. retrieved 2 july 2018.\\n \"a virtual travel agent with all the answers\". the new york times. 4 march 2008.\\n \"chatbot vendor directory released –\". www.hypergridbusiness.com.\\n \"rare carat\\'s watson-powered chatbot will help you put a diamond ring on it\". techcrunch. february 15, 2017.\\n \"10 ways you may have already used ibm watson\". venturebeat. march 10, 2017.\\n greenfield, rebecca (5 may 2016). \"chatbots are your newest, dumbest co-workers\". bloomberg.com.\\n \"facebook opens its messenger platform to chatbots\". 12 april 2016.\\n \"chatbot reference architecture\". 1 january 2019.\\n \"how chatbots are transforming wall street and main street banks?\". 1 april 2019.\\n \"how to manage customer service technology innovation\". www.gartner.com. archived from the original on december 11, 2019. retrieved 2020-01-02.\\n \"chatbot interactions in retail to reach 22 billion by 2023, as ai offers compelling new engagement solutions\". www.juniperresearch.com. retrieved 2020-01-02.\\n \"facebook launches messenger platform with chatbots\". 1 april 2019.\\n \"российский банк запустил чат-бота в facebook\". 1 april 2019.\\n \"absa launches \\'world-first\\' facebook messenger banking\". 1 april 2019.\\n \"the biggest french banks by total assets\". banks around the world. retrieved april 1, 2019.\\n \"gagner du temps avec le chatbot bancaire pour gagner en intelligence avec les conseillers\". marketing client. retrieved april 1, 2019.\\n \"meet 11 of the most interesting chatbots in banking\". the financial brain. 14 march 2018. retrieved april 1, 2019.\\n \"chatbots: boon or bane?\". bluelupin. 9 january 2018. retrieved april 1, 2019.\\n larson, selena (october 11, 2016). \"baidu is bringing ai chatbots to healthcare\". cnn money.\\n \"ai chatbots have a future in healthcare, with caveats\". ai in healthcare.\\n palanica, adam; flaschner, peter; thommandram, anirudh; li, michael; fossat, yan (january 3, 2019). \"physicians\\' perceptions of chatbots in health care: cross-sectional web-based survey\". journal of medical internet research. 21 (4): e12887. doi:10.2196/12887. pmc 6473203. pmid 30950796.\\n ahaskar, abhijit (2020-03-27). \"how whatsapp chatbots are helping in the fight against covid-19\". mint. retrieved 2020-07-23.\\n \"india\\'s coronavirus chatbot on whatsapp crosses 1.7 crore users in 10 days\". ndtv gadgets 360. retrieved 2020-07-23.\\n kurup, rajesh (21 march 2020). \"covid-19: govt of india launches a whatsapp chatbot\". business line. retrieved 2020-07-23.\\n \"in focus: mumbai-based haptik which developed india\\'s official whatsapp chatbot for covid-19\". hindustan times. 7 april 2020. retrieved 2020-07-23.\\n \"ai-enabled patient experience improvement in the philippines\". www.proto.cx. 22 september 2022. retrieved 22 september 2022.\\n nadarzynski, tom; miles, oliver; cowie, aimee; ridge, damien (january 1, 2019). \"acceptability of artificial intelligence (ai)-led chatbot services in healthcare: a mixed-methods study\". digital health. 5: 2055207619871808. doi:10.1177/2055207619871808. pmc 6704417. pmid 31467682.\\n \"sam, the virtual politician\". tuia innovation.\\n wellington, victoria university of (december 15, 2017). \"meet the world\\'s first virtual politician\". victoria university of wellington.\\n wagner, meg (23 november 2017). \"this virtual politician wants to run for office\". cnn.\\n \"talk with the first-ever robot politician on facebook messenger\". engadget.\\n prakash, abishur (august 8, 2018). \"ai-politicians: a revolution in politics\". medium.\\n sam website\\n sternberg, sarah (20 june 2022). \"danskere vil ind på den politiske scene med kunstig intelligens\" [danes want to enter the political scene with artificial intelligence]. jyllands-posten. retrieved 2022-06-20.\\n diwakar, amar (2022-08-22). \"can an ai-led danish party usher in an age of algorithmic politics?\". trt world. retrieved 2022-08-22.\\n xiang, chloe (13 october 2022). \"this danish political party is led by an ai\". vice: motherboard. retrieved 2022-10-13.\\n hearing, alice (14 october 2022). \"a.i. chatbot is leading a danish political party and setting its policies. now users are grilling it for its stance on political landmines\". fortune.\\n \"maharashtra government launches aaple sarkar chatbot to provide info on 1,400 public services\". cnbc tv18. 5 march 2019. retrieved 2020-07-23.\\n \"government of maharashtra launches aaple sarkar chatbot with haptik\". the economic times. retrieved 2020-07-23.\\n aggarwal, varun (5 march 2019). \"maharashtra launches aaple sarkar chatbot\". business line. retrieved 2020-07-23.\\n amy (2015-02-23). \"conversational toys – the latest trend in speech technology\". virtual agent chat. archived from the original on 2018-02-21. retrieved 2016-08-11.\\n nagy, evie (13 february 2015). \"using toy-talk technology, new hello barbie will have real conversations with kids\". fast company. retrieved 18 march 2015.\\n oren jacob, the co-founder and ceo of toytalk interviewed on the tv show triangulation on the twit.tv network\\n \"artificial intelligence script tool\".\\n takahashi, dean (23 february 2015). \"elemental\\'s smart connected toy taps ibm\\'s watson supercomputer for its brains\". venture beat. retrieved 15 may 2015.\\n \"from russia with love\" (pdf). retrieved 2007-12-09. psychologist and scientific american: mind contributing editor robert epstein reports how he was initially fooled by a chatterbot posing as an attractive girl in a personal ad he answered on a dating website. in the ad, the girl portrayed herself as being in southern california and then soon revealed, in poor english, that she was actually in russia. he became suspicious after a couple of months of email exchanges, sent her an email test of gibberish, and she still replied in general terms. the dating website is not named. scientific american: mind, october–november 2007, page 16–17, \"from russia with love: how i got fooled (and somewhat humiliated) by a computer\". also available online.\\n bird, jordan j.; ekart, aniko; faria, diego r. (june 2018). learning from interaction: an intelligent networked-based human-bot and bot-bot chatbot system in: advances in computational intelligence systems (1st ed.). nottingham, uk: springer. pp. 179–190. doi:10.1007/978-3-319-97982-3_15. isbn 978-3-319-97982-3. s2cid 52069140.\\n \"fake news\". 20 november 2018. retrieved 2018-11-20.\\n \"malicious uses\". retrieved 2016-05-11.\\n \"meet 11 of the most interesting chatbots in banking\". 14 march 2018. retrieved 2019-04-01.\\n grudin, jonathan; jacques, richard (2019), \"chatbots, humbots, and the quest for artificial general intelligence\", proceedings of the 2019 chi conference on human factors in computing systems – chi \\'19, acm chi 2020, pp. 209–219, doi:10.1145/3290605.3300439, isbn 978-1-4503-5970-2, s2cid 140274744\\n \"how talking machines are taking call center jobs\". bbc news. 23 august 2018. retrieved 2019-04-01.\\n \"how chatbots are killing jobs (and creating new ones)\". june 2017. retrieved 2019-04-01.\\nbibliography\\ncomputer history museum (2006), \"internet history—1970\\'s\", exhibits, computer history museum, archived from the original on 2008-02-21, retrieved 2008-03-05\\ngüzeldere, güven; franchi, stefano (1995-07-24), \"constructions of the mind\", stanford humanities review, sehr, stanford university, 4 (2), retrieved 2008-03-05\\nmauldin, michael (1994), \"chatterbots, tinymuds, and the turing test: entering the loebner prize competition\", proceedings of the eleventh national conference on artificial intelligence, aaai press, retrieved 2008-03-05 (abstract)\\nnetwork working group (1973), \"rfc 439, parry encounters the doctor\", internet engineering task force, internet society, doi:10.17487/rfc0439, retrieved 2008-03-05\\nsondheim, alan j (1997), <nettime> important documents from the early internet (1972), nettime.org, archived from the original on 2008-06-13, retrieved 2008-03-05\\nturing, alan (1950), \"computing machinery and intelligence\", mind, 59 (236): 433–60, doi:10.1093/mind/lix.236.433\\nweizenbaum, joseph (january 1966), \"eliza—a computer program for the study of natural language communication between man and machine\", communications of the acm, 9 (1): 36–45, doi:10.1145/365153.365168, s2cid 1896290\\nfurther reading\\nsearle, john (1980), \"minds, brains and programs\", behavioral and brain sciences, 3 (3): 417–457, doi:10.1017/s0140525x00005756, s2cid 55303721\\nshevat, amir (2017). designing bots: creating conversational experiences (first ed.). sebastopol, ca: o\\'reilly media. isbn 978-1-4919-7482-7. oclc 962125282.\\nexternal links\\n media related to chatbots at wikimedia commons\\n conversational bots at wikibooks\\nvte\\nnatural language processing\\nportal:\\nicon language\\nauthority control: national libraries edit this at wikidata\\t\\ngermanyczech republic\\ncategories: chatbotsinstant messaginginteractive narrativenatural language parsing\\nnavigation menu\\nnot logged in\\ntalk\\ncontributions\\ncreate account\\nlog in\\narticletalk\\nreadeditview history\\nsearch wikipedia\\nmain page\\ncontents\\ncurrent events\\nrandom article\\nabout wikipedia\\ncontact us\\ndonate\\ncontribute\\nhelp\\nlearn to edit\\ncommunity portal\\nrecent changes\\nupload file\\ntools\\nwhat links here\\nrelated changes\\nspecial pages\\npermanent link\\npage information\\ncite this page\\nwikidata item\\nprint/export\\ndownload as pdf\\nprintable version\\nin other projects\\nwikimedia commons\\nwikibooks\\n\\nlanguages\\nالعربية\\nবাংলা\\nespañol\\nfrançais\\nbahasa indonesia\\nportuguês\\nрусский\\nதமிழ்\\n中文\\n30 more\\nedit links\\nthis page was last edited on 30 december 2022, at 01:23 (utc).\\ntext is available under the creative commons attribution-sharealike license 3.0; additional terms may apply. by using this site, you agree to the terms of use and privacy policy. wikipedia® is a registered trademark of the wikimedia foundation, inc., a non-profit organization.\\nprivacy policyabout wikipediadisclaimerscontact wikipediamobile viewdevelopersstatisticscookie statementwikimedia foundationpowered by mediawiki'"
            ]
          },
          "execution_count": 6,
          "metadata": {},
          "output_type": "execute_result"
        }
      ],
      "source": [
        "raw_doc"
      ]
    },
    {
      "cell_type": "code",
      "execution_count": 7,
      "metadata": {
        "id": "QejR7Ol_tkyi"
      },
      "outputs": [],
      "source": [
        "sentence_tokens =nltk.sent_tokenize(raw_doc)\n",
        "word_tokens = nltk.word_tokenize(raw_doc)"
      ]
    },
    {
      "cell_type": "markdown",
      "metadata": {
        "id": "dQtXlMO1tv1v"
      },
      "source": [
        "after tokenization"
      ]
    },
    {
      "cell_type": "code",
      "execution_count": 8,
      "metadata": {
        "colab": {
          "base_uri": "https://localhost:8080/"
        },
        "id": "S2AJsy5Ut4ai",
        "outputId": "2113026b-d28d-4846-fab3-741167493622"
      },
      "outputs": [
        {
          "data": {
            "text/plain": [
              "['\\nchatbot\\nfrom wikipedia, the free encyclopedia\\njump to navigationjump to search\\nfor other uses, see chatbot (disambiguation).',\n",
              " 'a virtual assistant chatbot\\n\\nthe 1966 eliza chatbot\\na chatbot or chatterbot is a software application used to conduct an on-line chat conversation via text or text-to-speech, in lieu of providing direct contact with a live human agent.',\n",
              " '[1][2] designed to convincingly simulate the way a human would behave as a conversational partner, chatbot systems typically require continuous tuning and testing, and many in production remain unable to adequately converse, while none of them can pass the standard turing test.',\n",
              " '[3] the term \"chatterbot\" was originally coined by michael mauldin (creator of the first verbot) in 1994 to describe these conversational programs.',\n",
              " '[4]\\n\\nchatbots are used in dialog systems for various purposes including customer service, request routing, or information gathering.']"
            ]
          },
          "execution_count": 8,
          "metadata": {},
          "output_type": "execute_result"
        }
      ],
      "source": [
        "sentence_tokens[:5]"
      ]
    },
    {
      "cell_type": "code",
      "execution_count": 9,
      "metadata": {
        "colab": {
          "base_uri": "https://localhost:8080/"
        },
        "id": "MxzZk2vkuF__",
        "outputId": "80e470fd-db2b-4a5d-9be8-5040189917aa"
      },
      "outputs": [
        {
          "data": {
            "text/plain": [
              "['chatbot', 'from', 'wikipedia', ',', 'the']"
            ]
          },
          "execution_count": 9,
          "metadata": {},
          "output_type": "execute_result"
        }
      ],
      "source": [
        "word_tokens[:5]"
      ]
    },
    {
      "cell_type": "markdown",
      "metadata": {
        "id": "6nh1TX69uYjf"
      },
      "source": [
        "performing Text-PreProcessing Steps"
      ]
    },
    {
      "cell_type": "code",
      "execution_count": 32,
      "metadata": {
        "id": "fHStfZ9eujoV"
      },
      "outputs": [],
      "source": [
        "lemmer =nltk.stem.WordNetLemmatizer()\n",
        "def LemTokens(tokens):\n",
        "    return [lemmer.lemmatize(token) for token in tokens]\n",
        "remove_punc_dict =dict((ord(punct),None) for punct in string.punctuation)\n",
        "def LemNormalize(text):\n",
        "   return LemTokens(nltk.word_tokenize(text.lower().translate(remove_punc_dict)))"
      ]
    },
    {
      "cell_type": "markdown",
      "metadata": {
        "id": "85BjKM58xeKl"
      },
      "source": [
        "define greeting functions"
      ]
    },
    {
      "cell_type": "code",
      "execution_count": 15,
      "metadata": {
        "id": "Q_PwmT-9xjqI"
      },
      "outputs": [],
      "source": [
        "greet_inputs = ('hello','hi','whassup','how are you?')\n",
        "greet_responses=('hi','hey','hey there!','there there!!')\n",
        "def greet(sentence):\n",
        "  for word in sentence.split():\n",
        "    if word.lower() in greet_inputs:\n",
        "      return random.choice(greet_responses)"
      ]
    },
    {
      "cell_type": "markdown",
      "metadata": {
        "id": "1YHgqjEIzO8c"
      },
      "source": [
        "responce generation by the bot"
      ]
    },
    {
      "cell_type": "code",
      "execution_count": 12,
      "metadata": {
        "id": "wxXwCbGYzWsj"
      },
      "outputs": [],
      "source": [
        "from sklearn.feature_extraction.text import TfidfVectorizer\n",
        "from sklearn.metrics.pairwise import cosine_similarity"
      ]
    },
    {
      "cell_type": "code",
      "execution_count": 25,
      "metadata": {
        "id": "l1LbMZop0Vso"
      },
      "outputs": [],
      "source": [
        "def response(user_response):\n",
        "  robo1_response =''\n",
        "  TfidfVec = TfidfVectorizer(tokenizer = LemNormalize, stop_words ='english')\n",
        "  tfidf=TfidfVec.fit_transform(sentence_tokens)\n",
        "  vals = cosine_similarity(tfidf[-1],tfidf)\n",
        "  idx =vals.argsort()[0][-2]\n",
        "  flat =vals.flatten()\n",
        "  flat.sort()\n",
        "  req_tfidf =flat[-2]\n",
        "  if(req_tfidf ==0):\n",
        "    robo1_response = robo1_response + \"i am sorry. unable to understand you !\"\n",
        "    return robo1_response\n",
        "  else:  \n",
        "    robo1_response = robo1_response + sentence_tokens[idx]\n",
        "    return robo1_response"
      ]
    },
    {
      "cell_type": "code",
      "execution_count": 33,
      "metadata": {
        "colab": {
          "base_uri": "https://localhost:8080/"
        },
        "id": "dpEHVr0j2wVQ",
        "outputId": "ebef178a-dc25-4551-f3ea-cfd495e6bf90"
      },
      "outputs": [
        {
          "name": "stdout",
          "output_type": "stream",
          "text": [
            "hello! i am the learing bot. start typing your text after greeting to talk to me\n",
            "hi\n",
            "Bothey there!\n",
            "universe\n",
            "Bot: "
          ]
        },
        {
          "name": "stderr",
          "output_type": "stream",
          "text": [
            "/usr/local/lib/python3.8/dist-packages/sklearn/feature_extraction/text.py:396: UserWarning: Your stop_words may be inconsistent with your preprocessing. Tokenizing the stop words generated tokens ['ha', 'le', 'u', 'wa'] not in stop_words.\n",
            "  warnings.warn(\n"
          ]
        },
        {
          "name": "stdout",
          "output_type": "stream",
          "text": [
            "universe\n",
            "tell me about turing test\n",
            "Bot: tell me about universe\n",
            "universe\n",
            "Bot: universe\n",
            "bye\n",
            "Bot:Goodbye!\n"
          ]
        }
      ],
      "source": [
        "flag =True\n",
        "print('hello! i am the learing bot. start typing your text after greeting to talk to me')\n",
        "while(flag == True):\n",
        "  user_response = input()\n",
        "  user_response =user_response.lower()\n",
        "  if(user_response !='bye'):\n",
        "    if(user_response == 'thank you' or user_response == 'thanks'):\n",
        "        flag =False\n",
        "        print('Bot: you are welcome...')\n",
        "    else:\n",
        "         if(greet(user_response)!=None):\n",
        "           print('Bot'+ greet(user_response))\n",
        "         else:\n",
        "            sentence_tokens.append(user_response)\n",
        "            word_tokens =word_tokens +nltk.word_tokenize(user_response)\n",
        "            final_words=list(set(word_tokens))\n",
        "            print('Bot: ',end ='')\n",
        "            print(response(user_response))\n",
        "            sentence_tokens.remove(user_response)\n",
        "  else:\n",
        "      flag=False\n",
        "      print('Bot:Goodbye!')"
      ]
    },
    {
      "cell_type": "markdown",
      "metadata": {
        "id": "cWKvmd772rli"
      },
      "source": [
        "Defining the chatflow"
      ]
    }
  ],
  "metadata": {
    "colab": {
      "provenance": []
    },
    "kernelspec": {
      "display_name": "Python 3",
      "name": "python3"
    },
    "language_info": {
      "name": "python"
    }
  },
  "nbformat": 4,
  "nbformat_minor": 0
}
